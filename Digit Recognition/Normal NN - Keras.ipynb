{
 "cells": [
  {
   "cell_type": "markdown",
   "metadata": {},
   "source": [
    "# Feed Forward Neural Network for Digit Recognition"
   ]
  },
  {
   "cell_type": "markdown",
   "metadata": {},
   "source": [
    "## Load the libraries "
   ]
  },
  {
   "cell_type": "code",
   "execution_count": 1,
   "metadata": {
    "collapsed": true
   },
   "outputs": [],
   "source": [
    "import numpy as np\n",
    "import pandas as pd\n",
    "from sklearn.cross_validation import train_test_split"
   ]
  },
  {
   "cell_type": "code",
   "execution_count": 2,
   "metadata": {
    "collapsed": true
   },
   "outputs": [],
   "source": [
    "from __future__ import division"
   ]
  },
  {
   "cell_type": "markdown",
   "metadata": {},
   "source": [
    "## Read the data"
   ]
  },
  {
   "cell_type": "code",
   "execution_count": 3,
   "metadata": {
    "collapsed": false
   },
   "outputs": [],
   "source": [
    "mydata = pd.read_csv('train.csv', sep=',')\n",
    "data = np.genfromtxt('train.csv', delimiter=',')\n",
    "test = np.genfromtxt('test.csv', delimiter=\",\")"
   ]
  },
  {
   "cell_type": "markdown",
   "metadata": {},
   "source": [
    "## Preprocessing "
   ]
  },
  {
   "cell_type": "markdown",
   "metadata": {},
   "source": [
    "The first row of both the train & test files is the column names"
   ]
  },
  {
   "cell_type": "code",
   "execution_count": null,
   "metadata": {
    "collapsed": true
   },
   "outputs": [],
   "source": [
    "The fist column "
   ]
  },
  {
   "cell_type": "code",
   "execution_count": 5,
   "metadata": {
    "collapsed": false
   },
   "outputs": [
    {
     "name": "stdout",
     "output_type": "stream",
     "text": [
      "(28001L, 784L)\n",
      "(28000L, 784L)\n"
     ]
    }
   ],
   "source": [
    "print data.shape\n",
    "print test.shape\n",
    "\n",
    "data = data[1:,:]\n",
    "test = test[1:, :]\n",
    "\n",
    "print data.shape\n",
    "print test.shape"
   ]
  },
  {
   "cell_type": "code",
   "execution_count": 18,
   "metadata": {
    "collapsed": true
   },
   "outputs": [],
   "source": [
    "x_train = data[:,1:]\n",
    "y_train = data[:,0]"
   ]
  },
  {
   "cell_type": "code",
   "execution_count": 19,
   "metadata": {
    "collapsed": false
   },
   "outputs": [
    {
     "name": "stdout",
     "output_type": "stream",
     "text": [
      "(42000L, 784L)\n",
      "(42000L,)\n"
     ]
    }
   ],
   "source": [
    "print x_train.shape\n",
    "print y_train.shape"
   ]
  },
  {
   "cell_type": "code",
   "execution_count": 20,
   "metadata": {
    "collapsed": false
   },
   "outputs": [
    {
     "name": "stderr",
     "output_type": "stream",
     "text": [
      "C:\\Anaconda\\lib\\site-packages\\keras\\utils\\np_utils.py:14: VisibleDeprecationWarning: using a non-integer number instead of an integer will result in an error in the future\n",
      "  Y = np.zeros((len(y), nb_classes))\n",
      "C:\\Anaconda\\lib\\site-packages\\keras\\utils\\np_utils.py:16: VisibleDeprecationWarning: using a non-integer number instead of an integer will result in an error in the future\n",
      "  Y[i, y[i]] = 1.\n"
     ]
    }
   ],
   "source": [
    "from keras.utils.np_utils import to_categorical\n",
    "y_train = to_categorical(y_train)"
   ]
  },
  {
   "cell_type": "markdown",
   "metadata": {
    "collapsed": true
   },
   "source": [
    "## Neural Network architechture in keras"
   ]
  },
  {
   "cell_type": "code",
   "execution_count": 15,
   "metadata": {
    "collapsed": false
   },
   "outputs": [
    {
     "name": "stderr",
     "output_type": "stream",
     "text": [
      "Using Theano backend.\n"
     ]
    }
   ],
   "source": [
    "from keras.models import Sequential\n",
    "from keras.layers import Dense, Activation, Dropout"
   ]
  },
  {
   "cell_type": "code",
   "execution_count": 16,
   "metadata": {
    "collapsed": false
   },
   "outputs": [],
   "source": [
    "model = Sequential()\n",
    "\n",
    "model.add(Dense(300, input_dim=784, init='uniform', activation = 'relu'))\n",
    "model.add(Dropout(0.4))\n",
    "\n",
    "model.add(Dense(120, init='uniform', activation = 'relu'))\n",
    "model.add(Dropout(0.2))\n",
    "\n",
    "model.add(Dense(10, activation='softmax'))"
   ]
  },
  {
   "cell_type": "code",
   "execution_count": 17,
   "metadata": {
    "collapsed": false
   },
   "outputs": [],
   "source": [
    "model.compile(loss='categorical_crossentropy',\n",
    "              optimizer = 'Adam',\n",
    "              metrics=['accuracy'])"
   ]
  },
  {
   "cell_type": "code",
   "execution_count": 21,
   "metadata": {
    "collapsed": false
   },
   "outputs": [
    {
     "name": "stdout",
     "output_type": "stream",
     "text": [
      "Epoch 1/100\n",
      "42000/42000 [==============================] - 5s - loss: 7.4796 - acc: 0.4738     \n",
      "Epoch 2/100\n",
      "42000/42000 [==============================] - 5s - loss: 2.6385 - acc: 0.7893     \n",
      "Epoch 3/100\n",
      "42000/42000 [==============================] - 5s - loss: 1.7034 - acc: 0.8550     \n",
      "Epoch 4/100\n",
      "42000/42000 [==============================] - 5s - loss: 1.2642 - acc: 0.8784     \n",
      "Epoch 5/100\n",
      "42000/42000 [==============================] - 5s - loss: 0.9439 - acc: 0.8925     \n",
      "Epoch 6/100\n",
      "42000/42000 [==============================] - 5s - loss: 0.7530 - acc: 0.8974     \n",
      "Epoch 7/100\n",
      "42000/42000 [==============================] - 5s - loss: 0.5977 - acc: 0.8999     \n",
      "Epoch 8/100\n",
      "42000/42000 [==============================] - 5s - loss: 0.5026 - acc: 0.9048     \n",
      "Epoch 9/100\n",
      "42000/42000 [==============================] - 5s - loss: 0.4368 - acc: 0.9099     \n",
      "Epoch 10/100\n",
      "42000/42000 [==============================] - 5s - loss: 0.3793 - acc: 0.9141     \n",
      "Epoch 11/100\n",
      "42000/42000 [==============================] - 4s - loss: 0.3433 - acc: 0.9193     \n",
      "Epoch 12/100\n",
      "42000/42000 [==============================] - 5s - loss: 0.3095 - acc: 0.9271     \n",
      "Epoch 13/100\n",
      "42000/42000 [==============================] - 5s - loss: 0.2868 - acc: 0.9301     \n",
      "Epoch 14/100\n",
      "42000/42000 [==============================] - 5s - loss: 0.2606 - acc: 0.9346     \n",
      "Epoch 15/100\n",
      "42000/42000 [==============================] - 4s - loss: 0.2399 - acc: 0.9378     \n",
      "Epoch 16/100\n",
      "42000/42000 [==============================] - 4s - loss: 0.2340 - acc: 0.9393     \n",
      "Epoch 17/100\n",
      "42000/42000 [==============================] - 4s - loss: 0.2157 - acc: 0.9440     \n",
      "Epoch 18/100\n",
      "42000/42000 [==============================] - 4s - loss: 0.1993 - acc: 0.9455     \n",
      "Epoch 19/100\n",
      "42000/42000 [==============================] - 4s - loss: 0.1953 - acc: 0.9461     \n",
      "Epoch 20/100\n",
      "42000/42000 [==============================] - 4s - loss: 0.1790 - acc: 0.9505     \n",
      "Epoch 21/100\n",
      "42000/42000 [==============================] - 4s - loss: 0.1757 - acc: 0.9508     \n",
      "Epoch 22/100\n",
      "42000/42000 [==============================] - 4s - loss: 0.1716 - acc: 0.9523     \n",
      "Epoch 23/100\n",
      "42000/42000 [==============================] - 4s - loss: 0.1552 - acc: 0.9561     \n",
      "Epoch 24/100\n",
      "42000/42000 [==============================] - 4s - loss: 0.1488 - acc: 0.9568     \n",
      "Epoch 25/100\n",
      "42000/42000 [==============================] - 4s - loss: 0.1442 - acc: 0.9577     \n",
      "Epoch 26/100\n",
      "42000/42000 [==============================] - 4s - loss: 0.1420 - acc: 0.9586     \n",
      "Epoch 27/100\n",
      "42000/42000 [==============================] - 4s - loss: 0.1375 - acc: 0.9605     \n",
      "Epoch 28/100\n",
      "42000/42000 [==============================] - 4s - loss: 0.1300 - acc: 0.9623     \n",
      "Epoch 29/100\n",
      "42000/42000 [==============================] - 4s - loss: 0.1236 - acc: 0.9634     \n",
      "Epoch 30/100\n",
      "42000/42000 [==============================] - 4s - loss: 0.1179 - acc: 0.9639     \n",
      "Epoch 31/100\n",
      "42000/42000 [==============================] - 4s - loss: 0.1206 - acc: 0.9647     \n",
      "Epoch 32/100\n",
      "42000/42000 [==============================] - 4s - loss: 0.1120 - acc: 0.9669     \n",
      "Epoch 33/100\n",
      "42000/42000 [==============================] - 4s - loss: 0.1107 - acc: 0.9667     \n",
      "Epoch 34/100\n",
      "42000/42000 [==============================] - 5s - loss: 0.1069 - acc: 0.9671     \n",
      "Epoch 35/100\n",
      "42000/42000 [==============================] - 5s - loss: 0.1018 - acc: 0.9687     \n",
      "Epoch 36/100\n",
      "42000/42000 [==============================] - 5s - loss: 0.1034 - acc: 0.9691     \n",
      "Epoch 37/100\n",
      "42000/42000 [==============================] - 5s - loss: 0.0957 - acc: 0.9706     \n",
      "Epoch 38/100\n",
      "42000/42000 [==============================] - 6s - loss: 0.0923 - acc: 0.9716     \n",
      "Epoch 39/100\n",
      "42000/42000 [==============================] - 5s - loss: 0.0936 - acc: 0.9709     \n",
      "Epoch 40/100\n",
      "42000/42000 [==============================] - 5s - loss: 0.0883 - acc: 0.9729     \n",
      "Epoch 41/100\n",
      "42000/42000 [==============================] - 5s - loss: 0.0882 - acc: 0.9723     \n",
      "Epoch 42/100\n",
      "42000/42000 [==============================] - 5s - loss: 0.0854 - acc: 0.9738     \n",
      "Epoch 43/100\n",
      "42000/42000 [==============================] - 4s - loss: 0.0819 - acc: 0.9742     \n",
      "Epoch 44/100\n",
      "42000/42000 [==============================] - 5s - loss: 0.0829 - acc: 0.9745     \n",
      "Epoch 45/100\n",
      "42000/42000 [==============================] - 4s - loss: 0.0823 - acc: 0.9750     \n",
      "Epoch 46/100\n",
      "42000/42000 [==============================] - 4s - loss: 0.0814 - acc: 0.9752     \n",
      "Epoch 47/100\n",
      "42000/42000 [==============================] - 4s - loss: 0.0769 - acc: 0.9764     \n",
      "Epoch 48/100\n",
      "42000/42000 [==============================] - 5s - loss: 0.0711 - acc: 0.9771     \n",
      "Epoch 49/100\n",
      "42000/42000 [==============================] - 5s - loss: 0.0748 - acc: 0.9766     \n",
      "Epoch 50/100\n",
      "42000/42000 [==============================] - 5s - loss: 0.0705 - acc: 0.9788     \n",
      "Epoch 51/100\n",
      "42000/42000 [==============================] - 5s - loss: 0.0679 - acc: 0.9790     \n",
      "Epoch 52/100\n",
      "42000/42000 [==============================] - 5s - loss: 0.0680 - acc: 0.9795     \n",
      "Epoch 53/100\n",
      "42000/42000 [==============================] - 5s - loss: 0.0665 - acc: 0.9796     \n",
      "Epoch 54/100\n",
      "42000/42000 [==============================] - 5s - loss: 0.0667 - acc: 0.9791     \n",
      "Epoch 55/100\n",
      "42000/42000 [==============================] - 5s - loss: 0.0654 - acc: 0.9789     \n",
      "Epoch 56/100\n",
      "42000/42000 [==============================] - 5s - loss: 0.0633 - acc: 0.9803     \n",
      "Epoch 57/100\n",
      "42000/42000 [==============================] - 5s - loss: 0.0598 - acc: 0.9806     \n",
      "Epoch 58/100\n",
      "42000/42000 [==============================] - 5s - loss: 0.0607 - acc: 0.9806     \n",
      "Epoch 59/100\n",
      "42000/42000 [==============================] - 5s - loss: 0.0570 - acc: 0.9821     \n",
      "Epoch 60/100\n",
      "42000/42000 [==============================] - 5s - loss: 0.0627 - acc: 0.9812     \n",
      "Epoch 61/100\n",
      "42000/42000 [==============================] - 5s - loss: 0.0602 - acc: 0.9812     \n",
      "Epoch 62/100\n",
      "42000/42000 [==============================] - 5s - loss: 0.0553 - acc: 0.9815     \n",
      "Epoch 63/100\n",
      "42000/42000 [==============================] - 5s - loss: 0.0578 - acc: 0.9819     \n",
      "Epoch 64/100\n",
      "42000/42000 [==============================] - 4s - loss: 0.0548 - acc: 0.9830     \n",
      "Epoch 65/100\n",
      "42000/42000 [==============================] - 4s - loss: 0.0534 - acc: 0.9829     \n",
      "Epoch 66/100\n",
      "42000/42000 [==============================] - 4s - loss: 0.0523 - acc: 0.9839     \n",
      "Epoch 67/100\n",
      "42000/42000 [==============================] - 4s - loss: 0.0538 - acc: 0.9830     \n",
      "Epoch 68/100\n",
      "42000/42000 [==============================] - 4s - loss: 0.0471 - acc: 0.9849     \n",
      "Epoch 69/100\n",
      "42000/42000 [==============================] - 4s - loss: 0.0543 - acc: 0.9835     \n",
      "Epoch 70/100\n",
      "42000/42000 [==============================] - 4s - loss: 0.0497 - acc: 0.9837     \n",
      "Epoch 71/100\n",
      "42000/42000 [==============================] - 4s - loss: 0.0475 - acc: 0.9846     \n",
      "Epoch 72/100\n",
      "42000/42000 [==============================] - 4s - loss: 0.0430 - acc: 0.9864     \n",
      "Epoch 73/100\n",
      "42000/42000 [==============================] - 4s - loss: 0.0467 - acc: 0.9855     \n",
      "Epoch 74/100\n",
      "42000/42000 [==============================] - 4s - loss: 0.0463 - acc: 0.9855     \n",
      "Epoch 75/100\n",
      "42000/42000 [==============================] - 4s - loss: 0.0454 - acc: 0.9851     \n",
      "Epoch 76/100\n",
      "42000/42000 [==============================] - 4s - loss: 0.0431 - acc: 0.9863     \n",
      "Epoch 77/100\n",
      "42000/42000 [==============================] - 4s - loss: 0.0441 - acc: 0.9855     \n",
      "Epoch 78/100\n",
      "42000/42000 [==============================] - 4s - loss: 0.0417 - acc: 0.9862     \n",
      "Epoch 79/100\n",
      "42000/42000 [==============================] - 4s - loss: 0.0435 - acc: 0.9860     \n",
      "Epoch 80/100\n",
      "42000/42000 [==============================] - 4s - loss: 0.0419 - acc: 0.9861     \n",
      "Epoch 81/100\n",
      "42000/42000 [==============================] - 4s - loss: 0.0404 - acc: 0.9871     \n",
      "Epoch 82/100\n",
      "42000/42000 [==============================] - 4s - loss: 0.0406 - acc: 0.9865     \n",
      "Epoch 83/100\n",
      "42000/42000 [==============================] - 4s - loss: 0.0432 - acc: 0.9868     \n",
      "Epoch 84/100\n",
      "42000/42000 [==============================] - 4s - loss: 0.0389 - acc: 0.9879     \n",
      "Epoch 85/100\n",
      "42000/42000 [==============================] - 4s - loss: 0.0395 - acc: 0.9876     \n",
      "Epoch 86/100\n",
      "42000/42000 [==============================] - 4s - loss: 0.0398 - acc: 0.9866     \n",
      "Epoch 87/100\n",
      "42000/42000 [==============================] - 4s - loss: 0.0374 - acc: 0.9876     \n",
      "Epoch 88/100\n",
      "42000/42000 [==============================] - 5s - loss: 0.0400 - acc: 0.9876     \n",
      "Epoch 89/100\n",
      "42000/42000 [==============================] - 4s - loss: 0.0406 - acc: 0.9869     \n",
      "Epoch 90/100\n",
      "42000/42000 [==============================] - 4s - loss: 0.0385 - acc: 0.9881     \n",
      "Epoch 91/100\n",
      "42000/42000 [==============================] - 4s - loss: 0.0351 - acc: 0.9887     \n",
      "Epoch 92/100\n",
      "42000/42000 [==============================] - 4s - loss: 0.0378 - acc: 0.9883     \n",
      "Epoch 93/100\n",
      "42000/42000 [==============================] - 4s - loss: 0.0372 - acc: 0.9884     \n",
      "Epoch 94/100\n",
      "42000/42000 [==============================] - 4s - loss: 0.0376 - acc: 0.9877     \n",
      "Epoch 95/100\n",
      "42000/42000 [==============================] - 4s - loss: 0.0361 - acc: 0.9879     \n",
      "Epoch 96/100\n",
      "42000/42000 [==============================] - 4s - loss: 0.0360 - acc: 0.9887     \n",
      "Epoch 97/100\n",
      "42000/42000 [==============================] - 4s - loss: 0.0355 - acc: 0.9883     \n",
      "Epoch 98/100\n",
      "42000/42000 [==============================] - 4s - loss: 0.0357 - acc: 0.9887     \n",
      "Epoch 99/100\n",
      "42000/42000 [==============================] - 4s - loss: 0.0355 - acc: 0.9885     \n",
      "Epoch 100/100\n",
      "42000/42000 [==============================] - 4s - loss: 0.0344 - acc: 0.9888     \n"
     ]
    },
    {
     "data": {
      "text/plain": [
       "<keras.callbacks.History at 0x4b55ddd8>"
      ]
     },
     "execution_count": 21,
     "metadata": {},
     "output_type": "execute_result"
    }
   ],
   "source": [
    "model.fit(x_train, y_train, nb_epoch=100, batch_size=5000)"
   ]
  },
  {
   "cell_type": "code",
   "execution_count": 31,
   "metadata": {
    "collapsed": false
   },
   "outputs": [
    {
     "name": "stdout",
     "output_type": "stream",
     "text": [
      "28000/28000 [==============================] - 4s     \n"
     ]
    }
   ],
   "source": [
    "results = model.predict_classes(test)\n",
    "Verbose=0"
   ]
  },
  {
   "cell_type": "code",
   "execution_count": 35,
   "metadata": {
    "collapsed": false
   },
   "outputs": [
    {
     "name": "stdout",
     "output_type": "stream",
     "text": [
      "(28000L,)\n"
     ]
    },
    {
     "data": {
      "text/plain": [
       "array([2, 0, 9, 9, 3, 7, 0, 3, 0], dtype=int64)"
      ]
     },
     "execution_count": 35,
     "metadata": {},
     "output_type": "execute_result"
    }
   ],
   "source": [
    "print results.shape\n",
    "results[0:9]"
   ]
  },
  {
   "cell_type": "markdown",
   "metadata": {},
   "source": [
    "## Print images"
   ]
  },
  {
   "cell_type": "code",
   "execution_count": 8,
   "metadata": {
    "collapsed": true
   },
   "outputs": [],
   "source": [
    "images = data[:,1:]\n",
    "labels = data[:, 0]"
   ]
  },
  {
   "cell_type": "code",
   "execution_count": 9,
   "metadata": {
    "collapsed": false
   },
   "outputs": [
    {
     "name": "stdout",
     "output_type": "stream",
     "text": [
      "(42000L, 784L)\n",
      "(42000L,)\n"
     ]
    }
   ],
   "source": [
    "print images.shape\n",
    "print labels.shape"
   ]
  },
  {
   "cell_type": "code",
   "execution_count": 10,
   "metadata": {
    "collapsed": false
   },
   "outputs": [
    {
     "name": "stdout",
     "output_type": "stream",
     "text": [
      "(784L,)\n",
      "(28L, 28L)\n"
     ]
    }
   ],
   "source": [
    "image_1 = images[0, :]\n",
    "print image_1.shape\n",
    "image_1 = image_1.reshape(28, 28)\n",
    "print image_1.shape"
   ]
  },
  {
   "cell_type": "code",
   "execution_count": 11,
   "metadata": {
    "collapsed": true
   },
   "outputs": [],
   "source": [
    "from PIL import Image\n",
    "im_1 = Image.fromarray(image_1)\n",
    "im_1.show()"
   ]
  },
  {
   "cell_type": "code",
   "execution_count": 12,
   "metadata": {
    "collapsed": true
   },
   "outputs": [],
   "source": [
    "im2 = images[1,:]\n",
    "im2 = im2.reshape(28,28)\n",
    "im_2 = Image.fromarray(im2)\n",
    "im_2.show()"
   ]
  },
  {
   "cell_type": "code",
   "execution_count": 13,
   "metadata": {
    "collapsed": true
   },
   "outputs": [],
   "source": [
    "def normalise(arr):\n",
    "    mn = arr.min()\n",
    "    mx = arr.max()\n",
    "    arr2 = (arr-mn)\n",
    "    arr2 = arr2*255/(mx-mn)\n",
    "    return arr2 "
   ]
  },
  {
   "cell_type": "code",
   "execution_count": 14,
   "metadata": {
    "collapsed": false
   },
   "outputs": [],
   "source": [
    "ar = images[5, :]\n",
    "# print ar\n",
    "ar = normalise(ar)\n",
    "# print ar"
   ]
  }
 ],
 "metadata": {
  "kernelspec": {
   "display_name": "Python 2",
   "language": "python",
   "name": "python2"
  },
  "language_info": {
   "codemirror_mode": {
    "name": "ipython",
    "version": 2
   },
   "file_extension": ".py",
   "mimetype": "text/x-python",
   "name": "python",
   "nbconvert_exporter": "python",
   "pygments_lexer": "ipython2",
   "version": "2.7.11"
  }
 },
 "nbformat": 4,
 "nbformat_minor": 0
}
