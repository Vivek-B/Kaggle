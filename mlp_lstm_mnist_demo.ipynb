{
 "cells": [
  {
   "cell_type": "code",
   "execution_count": 1,
   "metadata": {},
   "outputs": [
    {
     "name": "stderr",
     "output_type": "stream",
     "text": [
      "/home/vivekb/.local/lib/python2.7/site-packages/h5py/__init__.py:36: FutureWarning: Conversion of the second argument of issubdtype from `float` to `np.floating` is deprecated. In future, it will be treated as `np.float64 == np.dtype(float).type`.\n",
      "  from ._conv import register_converters as _register_converters\n",
      "Using TensorFlow backend.\n"
     ]
    }
   ],
   "source": [
    "import numpy as np\n",
    "import pandas as pd\n",
    "import keras\n",
    "\n",
    "from keras.layers import LSTM, Input, Dense\n",
    "from keras.models import Model\n",
    "from keras.utils import to_categorical"
   ]
  },
  {
   "cell_type": "code",
   "execution_count": 2,
   "metadata": {},
   "outputs": [],
   "source": [
    "batch_size = 64        # No of samples in each batch\n",
    "seq_len = 20           # No of 'block' for each sample in the data. This essentially is the no. of time steps \n",
    "inp_size = 7           # No of variables at each time step\n",
    "hidden_state_dim = 784 # No. of context variables for each sample\n",
    "lstm_dim = 37          # Equal to hidden_state_dim"
   ]
  },
  {
   "cell_type": "markdown",
   "metadata": {},
   "source": [
    "### Model Architecture"
   ]
  },
  {
   "cell_type": "code",
   "execution_count": 3,
   "metadata": {},
   "outputs": [
    {
     "name": "stdout",
     "output_type": "stream",
     "text": [
      "WARNING:tensorflow:From /home/vivekb/.local/lib/python2.7/site-packages/keras/backend/tensorflow_backend.py:2755: calling reduce_sum (from tensorflow.python.ops.math_ops) with keep_dims is deprecated and will be removed in a future version.\n",
      "Instructions for updating:\n",
      "keep_dims is deprecated, use keepdims instead\n",
      "WARNING:tensorflow:From /home/vivekb/.local/lib/python2.7/site-packages/keras/backend/tensorflow_backend.py:1290: calling reduce_mean (from tensorflow.python.ops.math_ops) with keep_dims is deprecated and will be removed in a future version.\n",
      "Instructions for updating:\n",
      "keep_dims is deprecated, use keepdims instead\n"
     ]
    }
   ],
   "source": [
    "## Define MLP\n",
    "mlp_inp = Input(batch_shape=(batch_size, hidden_state_dim))\n",
    "mlp_dense = Dense(hidden_state_dim, activation='relu')(mlp_inp)\n",
    "mlp_model = Model(mlp_inp, mlp_dense)\n",
    "\n",
    "## Define LSTM model\n",
    "lstm_inp = Input(batch_shape=(batch_size, seq_len, inp_size))\n",
    "lstm_layer = LSTM(lstm_dim, stateful=True)(lstm_inp)\n",
    "lstm_out = Dense(10,activation='softmax')(lstm_layer)\n",
    "lstm_model = Model(lstm_inp, lstm_out)\n",
    "\n",
    "## Set the output of MLP as initian cell state\n",
    "lstm_model.layers[1].states[1] = mlp_model.layers[1].output\n",
    "\n",
    "## Define the final model\n",
    "model = Model([mlp_inp, lstm_inp], lstm_model.output)\n",
    "model.compile(optimizer=\"adam\", loss=\"categorical_crossentropy\", metrics=['accuracy'])"
   ]
  },
  {
   "cell_type": "markdown",
   "metadata": {},
   "source": [
    "### Test the model: Train the LSTM with MNIST "
   ]
  },
  {
   "cell_type": "code",
   "execution_count": 4,
   "metadata": {},
   "outputs": [
    {
     "name": "stdout",
     "output_type": "stream",
     "text": [
      "((60000, 28, 28), (60000,))\n"
     ]
    }
   ],
   "source": [
    "from keras.datasets import mnist\n",
    "data = mnist.load_data()\n",
    "\n",
    "x, y = data[0]\n",
    "testx, testy = data[1]\n",
    "print( x.shape,y.shape)"
   ]
  },
  {
   "cell_type": "code",
   "execution_count": 5,
   "metadata": {},
   "outputs": [
    {
     "name": "stdout",
     "output_type": "stream",
     "text": [
      "(4096, 20, 7)\n"
     ]
    }
   ],
   "source": [
    "n_samples = 4096\n",
    "x_seq = np.random.normal(size=(n_samples, 20, 7))\n",
    "print(x_seq.shape)"
   ]
  },
  {
   "cell_type": "markdown",
   "metadata": {},
   "source": [
    "### Print weights of MLP after each epoch"
   ]
  },
  {
   "cell_type": "code",
   "execution_count": 6,
   "metadata": {},
   "outputs": [
    {
     "name": "stdout",
     "output_type": "stream",
     "text": [
      "0.053665955\n",
      "0.053665955\n",
      "0.053665955\n",
      "0.053665955\n",
      "0.053665955\n"
     ]
    }
   ],
   "source": [
    "for i in range(5):\n",
    "    print(mlp_model.layers[1].get_weights()[0][1][1])\n",
    "    model.fit([x[:n_samples].reshape(-1,784), x_seq], \n",
    "              to_categorical(y[:n_samples],10), \n",
    "              batch_size=batch_size, \n",
    "              epochs=1,\n",
    "              verbose=0)"
   ]
  },
  {
   "cell_type": "markdown",
   "metadata": {},
   "source": [
    "### Accuracy over epochs"
   ]
  },
  {
   "cell_type": "code",
   "execution_count": 7,
   "metadata": {},
   "outputs": [
    {
     "name": "stdout",
     "output_type": "stream",
     "text": [
      "Epoch 1/10\n",
      "4096/4096 [==============================] - 1s - loss: 2.2889 - acc: 0.1326     \n",
      "Epoch 2/10\n",
      "4096/4096 [==============================] - 1s - loss: 2.2862 - acc: 0.1335     \n",
      "Epoch 3/10\n",
      "4096/4096 [==============================] - 1s - loss: 2.2829 - acc: 0.1372     \n",
      "Epoch 4/10\n",
      "4096/4096 [==============================] - 1s - loss: 2.2794 - acc: 0.1411     \n",
      "Epoch 5/10\n",
      "4096/4096 [==============================] - 1s - loss: 2.2763 - acc: 0.1426     \n",
      "Epoch 6/10\n",
      "4096/4096 [==============================] - 1s - loss: 2.2717 - acc: 0.1489     \n",
      "Epoch 7/10\n",
      "4096/4096 [==============================] - 1s - loss: 2.2673 - acc: 0.1516     \n",
      "Epoch 8/10\n",
      "4096/4096 [==============================] - 1s - loss: 2.2620 - acc: 0.1531     \n",
      "Epoch 9/10\n",
      "4096/4096 [==============================] - 1s - loss: 2.2565 - acc: 0.1570     \n",
      "Epoch 10/10\n",
      "4096/4096 [==============================] - 1s - loss: 2.2489 - acc: 0.1687     \n"
     ]
    },
    {
     "data": {
      "text/plain": [
       "<keras.callbacks.History at 0x9ff59d0>"
      ]
     },
     "execution_count": 7,
     "metadata": {},
     "output_type": "execute_result"
    }
   ],
   "source": [
    "model.fit([x[:n_samples].reshape(-1,784), x_seq], \n",
    "              to_categorical(y[:n_samples],10), \n",
    "              batch_size=batch_size, \n",
    "              epochs=10,\n",
    "              verbose=1)"
   ]
  },
  {
   "cell_type": "markdown",
   "metadata": {},
   "source": [
    "### In model summary the MLP part is not included"
   ]
  },
  {
   "cell_type": "code",
   "execution_count": 8,
   "metadata": {},
   "outputs": [
    {
     "name": "stdout",
     "output_type": "stream",
     "text": [
      "_________________________________________________________________\n",
      "Layer (type)                 Output Shape              Param #   \n",
      "=================================================================\n",
      "input_2 (InputLayer)         (64, 20, 7)               0         \n",
      "_________________________________________________________________\n",
      "lstm_1 (LSTM)                (64, 37)                  6660      \n",
      "_________________________________________________________________\n",
      "dense_2 (Dense)              (64, 10)                  380       \n",
      "=================================================================\n",
      "Total params: 7,040\n",
      "Trainable params: 7,040\n",
      "Non-trainable params: 0\n",
      "_________________________________________________________________\n"
     ]
    }
   ],
   "source": [
    "model.summary()"
   ]
  },
  {
   "cell_type": "code",
   "execution_count": null,
   "metadata": {},
   "outputs": [],
   "source": []
  }
 ],
 "metadata": {
  "kernelspec": {
   "display_name": "Python 2",
   "language": "python",
   "name": "python2"
  },
  "language_info": {
   "codemirror_mode": {
    "name": "ipython",
    "version": 2
   },
   "file_extension": ".py",
   "mimetype": "text/x-python",
   "name": "python",
   "nbconvert_exporter": "python",
   "pygments_lexer": "ipython2",
   "version": "2.7.5"
  }
 },
 "nbformat": 4,
 "nbformat_minor": 2
}
